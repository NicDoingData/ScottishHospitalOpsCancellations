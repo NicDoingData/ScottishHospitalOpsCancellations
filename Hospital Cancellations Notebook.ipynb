{
 "cells": [
  {
   "cell_type": "markdown",
   "metadata": {},
   "source": [
    "\n",
    "# Will your next operation get cancelled?\n"
   ]
  },
  {
   "cell_type": "markdown",
   "metadata": {},
   "source": [
    "## 1. Setting Up The Notebook\n",
    "\n",
    "The data for this project were first published by Public Health Scotland in 2019 and last updated on the 20th of July 2022. They are freely available [here](https://www.opendata.nhs.scot/dataset/cancelled-planned-operations/resource/bcc860a4-49f4-4232-a76b-f559cf6eb885) and [here](https://www.opendata.nhs.scot/en_GB/dataset/hospital-codes). Some [initial analysis](https://publichealthscotland.scot/publications/cancelled-planned-operations/cancelled-planned-operations-month-ending-31-may-2022/) on this dataset has already been conducted by Public Health Scotland, but I have not seen or read any reports that go beyond this.\n",
    "\n",
    "In this first step we will read in the data and import any required libraries.\n"
   ]
  },
  {
   "cell_type": "code",
   "execution_count": 33,
   "metadata": {},
   "outputs": [],
   "source": [
    "# Import the necessary libraries:\n",
    "import numpy as np\n",
    "import pandas as pd\n",
    "import matplotlib.pyplot as plt\n",
    "import matplotlib.figure as fig\n",
    "import seaborn as sns\n",
    "from sklearn.linear_model import LinearRegression\n",
    "from sklearn.metrics import r2_score, mean_squared_error, roc_auc_score\n",
    "from sklearn.model_selection import train_test_split\n",
    "from sklearn.svm import SVR"
   ]
  },
  {
   "cell_type": "code",
   "execution_count": 34,
   "metadata": {},
   "outputs": [],
   "source": [
    "# Load the data\n",
    "data_raw = pd.read_csv(\"Cancellations.csv\")\n",
    "hospitals = pd.read_csv(\"Hospitals.csv\")"
   ]
  },
  {
   "cell_type": "markdown",
   "metadata": {},
   "source": [
    "\n",
    "## 2. Having a First Look at the Data\n"
   ]
  },
  {
   "cell_type": "code",
   "execution_count": 35,
   "metadata": {},
   "outputs": [
    {
     "name": "stdout",
     "output_type": "stream",
     "text": [
      "The dataset has 3683 rows and 15 columns\n"
     ]
    },
    {
     "data": {
      "text/html": [
       "<div>\n",
       "<style scoped>\n",
       "    .dataframe tbody tr th:only-of-type {\n",
       "        vertical-align: middle;\n",
       "    }\n",
       "\n",
       "    .dataframe tbody tr th {\n",
       "        vertical-align: top;\n",
       "    }\n",
       "\n",
       "    .dataframe thead th {\n",
       "        text-align: right;\n",
       "    }\n",
       "</style>\n",
       "<table border=\"1\" class=\"dataframe\">\n",
       "  <thead>\n",
       "    <tr style=\"text-align: right;\">\n",
       "      <th></th>\n",
       "      <th>_id</th>\n",
       "      <th>Month</th>\n",
       "      <th>Hospital</th>\n",
       "      <th>TotalOperations</th>\n",
       "      <th>TotalOperationsQF</th>\n",
       "      <th>TotalCancelled</th>\n",
       "      <th>TotalCancelledQF</th>\n",
       "      <th>CancelledByPatientReason</th>\n",
       "      <th>CancelledByPatientReasonQF</th>\n",
       "      <th>ClinicalReason</th>\n",
       "      <th>ClinicalReasonQF</th>\n",
       "      <th>NonClinicalCapacityReason</th>\n",
       "      <th>NonClinicalCapacityReasonQF</th>\n",
       "      <th>OtherReason</th>\n",
       "      <th>OtherReasonQF</th>\n",
       "    </tr>\n",
       "  </thead>\n",
       "  <tbody>\n",
       "    <tr>\n",
       "      <th>0</th>\n",
       "      <td>1</td>\n",
       "      <td>201505</td>\n",
       "      <td>D102H</td>\n",
       "      <td>1274</td>\n",
       "      <td>NaN</td>\n",
       "      <td>57</td>\n",
       "      <td>NaN</td>\n",
       "      <td>20</td>\n",
       "      <td>NaN</td>\n",
       "      <td>7</td>\n",
       "      <td>NaN</td>\n",
       "      <td>30</td>\n",
       "      <td>NaN</td>\n",
       "      <td>0</td>\n",
       "      <td>NaN</td>\n",
       "    </tr>\n",
       "    <tr>\n",
       "      <th>1</th>\n",
       "      <td>2</td>\n",
       "      <td>201505</td>\n",
       "      <td>A111H</td>\n",
       "      <td>884</td>\n",
       "      <td>NaN</td>\n",
       "      <td>67</td>\n",
       "      <td>NaN</td>\n",
       "      <td>21</td>\n",
       "      <td>NaN</td>\n",
       "      <td>25</td>\n",
       "      <td>NaN</td>\n",
       "      <td>16</td>\n",
       "      <td>NaN</td>\n",
       "      <td>5</td>\n",
       "      <td>NaN</td>\n",
       "    </tr>\n",
       "    <tr>\n",
       "      <th>2</th>\n",
       "      <td>3</td>\n",
       "      <td>201505</td>\n",
       "      <td>A210H</td>\n",
       "      <td>977</td>\n",
       "      <td>NaN</td>\n",
       "      <td>111</td>\n",
       "      <td>NaN</td>\n",
       "      <td>31</td>\n",
       "      <td>NaN</td>\n",
       "      <td>45</td>\n",
       "      <td>NaN</td>\n",
       "      <td>11</td>\n",
       "      <td>NaN</td>\n",
       "      <td>24</td>\n",
       "      <td>NaN</td>\n",
       "    </tr>\n",
       "    <tr>\n",
       "      <th>3</th>\n",
       "      <td>4</td>\n",
       "      <td>201505</td>\n",
       "      <td>B120H</td>\n",
       "      <td>457</td>\n",
       "      <td>NaN</td>\n",
       "      <td>66</td>\n",
       "      <td>NaN</td>\n",
       "      <td>11</td>\n",
       "      <td>NaN</td>\n",
       "      <td>10</td>\n",
       "      <td>NaN</td>\n",
       "      <td>45</td>\n",
       "      <td>NaN</td>\n",
       "      <td>0</td>\n",
       "      <td>NaN</td>\n",
       "    </tr>\n",
       "    <tr>\n",
       "      <th>4</th>\n",
       "      <td>5</td>\n",
       "      <td>201505</td>\n",
       "      <td>Y104H</td>\n",
       "      <td>1312</td>\n",
       "      <td>NaN</td>\n",
       "      <td>100</td>\n",
       "      <td>NaN</td>\n",
       "      <td>27</td>\n",
       "      <td>NaN</td>\n",
       "      <td>54</td>\n",
       "      <td>NaN</td>\n",
       "      <td>10</td>\n",
       "      <td>NaN</td>\n",
       "      <td>9</td>\n",
       "      <td>NaN</td>\n",
       "    </tr>\n",
       "  </tbody>\n",
       "</table>\n",
       "</div>"
      ],
      "text/plain": [
       "   _id   Month Hospital  TotalOperations  TotalOperationsQF  TotalCancelled  \\\n",
       "0    1  201505    D102H             1274                NaN              57   \n",
       "1    2  201505    A111H              884                NaN              67   \n",
       "2    3  201505    A210H              977                NaN             111   \n",
       "3    4  201505    B120H              457                NaN              66   \n",
       "4    5  201505    Y104H             1312                NaN             100   \n",
       "\n",
       "   TotalCancelledQF  CancelledByPatientReason  CancelledByPatientReasonQF  \\\n",
       "0               NaN                        20                         NaN   \n",
       "1               NaN                        21                         NaN   \n",
       "2               NaN                        31                         NaN   \n",
       "3               NaN                        11                         NaN   \n",
       "4               NaN                        27                         NaN   \n",
       "\n",
       "   ClinicalReason  ClinicalReasonQF  NonClinicalCapacityReason  \\\n",
       "0               7               NaN                         30   \n",
       "1              25               NaN                         16   \n",
       "2              45               NaN                         11   \n",
       "3              10               NaN                         45   \n",
       "4              54               NaN                         10   \n",
       "\n",
       "   NonClinicalCapacityReasonQF  OtherReason  OtherReasonQF  \n",
       "0                          NaN            0            NaN  \n",
       "1                          NaN            5            NaN  \n",
       "2                          NaN           24            NaN  \n",
       "3                          NaN            0            NaN  \n",
       "4                          NaN            9            NaN  "
      ]
     },
     "execution_count": 35,
     "metadata": {},
     "output_type": "execute_result"
    }
   ],
   "source": [
    "# Inspect the shape of the data\n",
    "print(\"The dataset has\",data_raw.shape[0],\"rows and\", data_raw.shape[1], \"columns\")\n",
    "data_raw.head()"
   ]
  },
  {
   "cell_type": "markdown",
   "metadata": {},
   "source": [
    "Based on the first few rows of the columns, we can already tell that we can drop the  _id column, as it fulfills the same function as the index. From these first rows it also appears as if the qualifier columns with the suffix QF seem to contain largely NaNs. Let's investigate this further, and see where else in this dataset we might have missing data!"
   ]
  },
  {
   "cell_type": "code",
   "execution_count": 36,
   "metadata": {},
   "outputs": [
    {
     "name": "stdout",
     "output_type": "stream",
     "text": [
      "_id                            0.0\n",
      "Month                          0.0\n",
      "Hospital                       0.0\n",
      "TotalOperations                0.0\n",
      "TotalCancelled                 0.0\n",
      "CancelledByPatientReason       0.0\n",
      "ClinicalReason                 0.0\n",
      "NonClinicalCapacityReason      0.0\n",
      "OtherReason                    0.0\n",
      "TotalOperationsQF              1.0\n",
      "TotalCancelledQF               1.0\n",
      "CancelledByPatientReasonQF     1.0\n",
      "ClinicalReasonQF               1.0\n",
      "NonClinicalCapacityReasonQF    1.0\n",
      "OtherReasonQF                  1.0\n",
      "dtype: float64\n"
     ]
    }
   ],
   "source": [
    "# The best way to see how much of each column is missing is by visualising it! \n",
    "# First, we need to extract the data we want to visualise:\n",
    "missing = data_raw.isna().mean().sort_values()\n",
    "print(missing)"
   ]
  },
  {
   "cell_type": "markdown",
   "metadata": {},
   "source": [
    "A quick look at the output already tells us that there is no need for further visualisation! All the qualifier columns do not contain a single entry. This is good news, as it means that the publisher has no reservations on these datapoints, and we can happily drop the qualifier columns. It is time to start building our data cleaning function."
   ]
  },
  {
   "cell_type": "markdown",
   "metadata": {},
   "source": [
    "## 3. Data Cleaning\n",
    "For cleaning the data we will create a function, which takes the raw data as its input, performs any cleaning operations we want to do, and returns a clean data frame. We have already seen that we should drop the _ id column and the qualifier columns as they contain no valuable information for us. We also see, that the Month column is currently saved as an integer value comprising the year in the first 4 digit and the month in the last two. To give us more flexibility when analysing the data, we will create two new columns: The month (as a string), and the year (as an integer)"
   ]
  },
  {
   "cell_type": "code",
   "execution_count": 37,
   "metadata": {},
   "outputs": [],
   "source": [
    "# Define the function:\n",
    "\n",
    "def cancellation_cleaning(data_raw):\n",
    "    # Drop na columns and the id column\n",
    "    data = data_raw.dropna(axis = 1)\n",
    "    data = data.drop('_id', axis = 1)\n",
    "    \n",
    "    #split the Month column into Month and Year\n",
    "    data['Month'] = data['Month'].astype('str')\n",
    "\n",
    "    year_generator = lambda year: year[:4]\n",
    "    data['Year'] = data['Month'].apply(year_generator)\n",
    "    data['Year'] = data['Year'].astype('int')\n",
    "\n",
    "    month_generator = lambda month: month[4:]\n",
    "    data['Month_str'] = data['Month'].apply(month_generator)\n",
    "    \n",
    "    return data\n",
    "    "
   ]
  },
  {
   "cell_type": "code",
   "execution_count": 38,
   "metadata": {},
   "outputs": [
    {
     "data": {
      "text/html": [
       "<div>\n",
       "<style scoped>\n",
       "    .dataframe tbody tr th:only-of-type {\n",
       "        vertical-align: middle;\n",
       "    }\n",
       "\n",
       "    .dataframe tbody tr th {\n",
       "        vertical-align: top;\n",
       "    }\n",
       "\n",
       "    .dataframe thead th {\n",
       "        text-align: right;\n",
       "    }\n",
       "</style>\n",
       "<table border=\"1\" class=\"dataframe\">\n",
       "  <thead>\n",
       "    <tr style=\"text-align: right;\">\n",
       "      <th></th>\n",
       "      <th>Month</th>\n",
       "      <th>Hospital</th>\n",
       "      <th>TotalOperations</th>\n",
       "      <th>TotalCancelled</th>\n",
       "      <th>CancelledByPatientReason</th>\n",
       "      <th>ClinicalReason</th>\n",
       "      <th>NonClinicalCapacityReason</th>\n",
       "      <th>OtherReason</th>\n",
       "      <th>Year</th>\n",
       "      <th>Month_str</th>\n",
       "    </tr>\n",
       "  </thead>\n",
       "  <tbody>\n",
       "    <tr>\n",
       "      <th>0</th>\n",
       "      <td>201505</td>\n",
       "      <td>D102H</td>\n",
       "      <td>1274</td>\n",
       "      <td>57</td>\n",
       "      <td>20</td>\n",
       "      <td>7</td>\n",
       "      <td>30</td>\n",
       "      <td>0</td>\n",
       "      <td>2015</td>\n",
       "      <td>05</td>\n",
       "    </tr>\n",
       "    <tr>\n",
       "      <th>1</th>\n",
       "      <td>201505</td>\n",
       "      <td>A111H</td>\n",
       "      <td>884</td>\n",
       "      <td>67</td>\n",
       "      <td>21</td>\n",
       "      <td>25</td>\n",
       "      <td>16</td>\n",
       "      <td>5</td>\n",
       "      <td>2015</td>\n",
       "      <td>05</td>\n",
       "    </tr>\n",
       "    <tr>\n",
       "      <th>2</th>\n",
       "      <td>201505</td>\n",
       "      <td>A210H</td>\n",
       "      <td>977</td>\n",
       "      <td>111</td>\n",
       "      <td>31</td>\n",
       "      <td>45</td>\n",
       "      <td>11</td>\n",
       "      <td>24</td>\n",
       "      <td>2015</td>\n",
       "      <td>05</td>\n",
       "    </tr>\n",
       "    <tr>\n",
       "      <th>3</th>\n",
       "      <td>201505</td>\n",
       "      <td>B120H</td>\n",
       "      <td>457</td>\n",
       "      <td>66</td>\n",
       "      <td>11</td>\n",
       "      <td>10</td>\n",
       "      <td>45</td>\n",
       "      <td>0</td>\n",
       "      <td>2015</td>\n",
       "      <td>05</td>\n",
       "    </tr>\n",
       "    <tr>\n",
       "      <th>4</th>\n",
       "      <td>201505</td>\n",
       "      <td>Y104H</td>\n",
       "      <td>1312</td>\n",
       "      <td>100</td>\n",
       "      <td>27</td>\n",
       "      <td>54</td>\n",
       "      <td>10</td>\n",
       "      <td>9</td>\n",
       "      <td>2015</td>\n",
       "      <td>05</td>\n",
       "    </tr>\n",
       "  </tbody>\n",
       "</table>\n",
       "</div>"
      ],
      "text/plain": [
       "    Month Hospital  TotalOperations  TotalCancelled  CancelledByPatientReason  \\\n",
       "0  201505    D102H             1274              57                        20   \n",
       "1  201505    A111H              884              67                        21   \n",
       "2  201505    A210H              977             111                        31   \n",
       "3  201505    B120H              457              66                        11   \n",
       "4  201505    Y104H             1312             100                        27   \n",
       "\n",
       "   ClinicalReason  NonClinicalCapacityReason  OtherReason  Year Month_str  \n",
       "0               7                         30            0  2015        05  \n",
       "1              25                         16            5  2015        05  \n",
       "2              45                         11           24  2015        05  \n",
       "3              10                         45            0  2015        05  \n",
       "4              54                         10            9  2015        05  "
      ]
     },
     "execution_count": 38,
     "metadata": {},
     "output_type": "execute_result"
    }
   ],
   "source": [
    "# Apply the function\n",
    "data = cancellation_cleaning(data_raw)\n",
    "data.head()"
   ]
  },
  {
   "cell_type": "markdown",
   "metadata": {},
   "source": [
    "Unfortunately, we can see that the hospital is denoted using a 5 digit code. This is convenient for working with the data, but will make it a lot harder to extract real meaning from it. We therefore imported a second data_frame containing data on the hospitals including their real names and we will now merge the two."
   ]
  },
  {
   "cell_type": "code",
   "execution_count": 39,
   "metadata": {},
   "outputs": [
    {
     "data": {
      "text/html": [
       "<div>\n",
       "<style scoped>\n",
       "    .dataframe tbody tr th:only-of-type {\n",
       "        vertical-align: middle;\n",
       "    }\n",
       "\n",
       "    .dataframe tbody tr th {\n",
       "        vertical-align: top;\n",
       "    }\n",
       "\n",
       "    .dataframe thead th {\n",
       "        text-align: right;\n",
       "    }\n",
       "</style>\n",
       "<table border=\"1\" class=\"dataframe\">\n",
       "  <thead>\n",
       "    <tr style=\"text-align: right;\">\n",
       "      <th></th>\n",
       "      <th>Month</th>\n",
       "      <th>Hospital</th>\n",
       "      <th>TotalOperations</th>\n",
       "      <th>TotalCancelled</th>\n",
       "      <th>CancelledByPatientReason</th>\n",
       "      <th>ClinicalReason</th>\n",
       "      <th>NonClinicalCapacityReason</th>\n",
       "      <th>OtherReason</th>\n",
       "      <th>Year</th>\n",
       "      <th>Month_str</th>\n",
       "      <th>_id</th>\n",
       "      <th>LocationName</th>\n",
       "      <th>Postcode</th>\n",
       "      <th>AddressLine</th>\n",
       "      <th>HB</th>\n",
       "    </tr>\n",
       "  </thead>\n",
       "  <tbody>\n",
       "    <tr>\n",
       "      <th>0</th>\n",
       "      <td>201505</td>\n",
       "      <td>D102H</td>\n",
       "      <td>1274</td>\n",
       "      <td>57</td>\n",
       "      <td>20</td>\n",
       "      <td>7</td>\n",
       "      <td>30</td>\n",
       "      <td>0</td>\n",
       "      <td>2015</td>\n",
       "      <td>05</td>\n",
       "      <td>240.0</td>\n",
       "      <td>Golden Jubilee National Hospital</td>\n",
       "      <td>G81 4DY</td>\n",
       "      <td>Agamemnon Street, Clydebank</td>\n",
       "      <td>SB0801</td>\n",
       "    </tr>\n",
       "    <tr>\n",
       "      <th>1</th>\n",
       "      <td>201505</td>\n",
       "      <td>A111H</td>\n",
       "      <td>884</td>\n",
       "      <td>67</td>\n",
       "      <td>21</td>\n",
       "      <td>25</td>\n",
       "      <td>16</td>\n",
       "      <td>5</td>\n",
       "      <td>2015</td>\n",
       "      <td>05</td>\n",
       "      <td>5.0</td>\n",
       "      <td>University Hospital Crosshouse</td>\n",
       "      <td>KA2 0BE</td>\n",
       "      <td>Kilmarnock Road, Kilmarnock, Ayrshire</td>\n",
       "      <td>S08000015</td>\n",
       "    </tr>\n",
       "    <tr>\n",
       "      <th>2</th>\n",
       "      <td>201505</td>\n",
       "      <td>A210H</td>\n",
       "      <td>977</td>\n",
       "      <td>111</td>\n",
       "      <td>31</td>\n",
       "      <td>45</td>\n",
       "      <td>11</td>\n",
       "      <td>24</td>\n",
       "      <td>2015</td>\n",
       "      <td>05</td>\n",
       "      <td>11.0</td>\n",
       "      <td>University Hospital Ayr</td>\n",
       "      <td>KA6 6DX</td>\n",
       "      <td>Dalmellington Road, Ayr</td>\n",
       "      <td>S08000015</td>\n",
       "    </tr>\n",
       "    <tr>\n",
       "      <th>3</th>\n",
       "      <td>201505</td>\n",
       "      <td>B120H</td>\n",
       "      <td>457</td>\n",
       "      <td>66</td>\n",
       "      <td>11</td>\n",
       "      <td>10</td>\n",
       "      <td>45</td>\n",
       "      <td>0</td>\n",
       "      <td>2015</td>\n",
       "      <td>05</td>\n",
       "      <td>23.0</td>\n",
       "      <td>Borders General Hospital</td>\n",
       "      <td>TD6 9BS</td>\n",
       "      <td>Melrose</td>\n",
       "      <td>S08000016</td>\n",
       "    </tr>\n",
       "    <tr>\n",
       "      <th>4</th>\n",
       "      <td>201505</td>\n",
       "      <td>Y104H</td>\n",
       "      <td>1312</td>\n",
       "      <td>100</td>\n",
       "      <td>27</td>\n",
       "      <td>54</td>\n",
       "      <td>10</td>\n",
       "      <td>9</td>\n",
       "      <td>2015</td>\n",
       "      <td>05</td>\n",
       "      <td>NaN</td>\n",
       "      <td>NaN</td>\n",
       "      <td>NaN</td>\n",
       "      <td>NaN</td>\n",
       "      <td>NaN</td>\n",
       "    </tr>\n",
       "  </tbody>\n",
       "</table>\n",
       "</div>"
      ],
      "text/plain": [
       "    Month Hospital  TotalOperations  TotalCancelled  CancelledByPatientReason  \\\n",
       "0  201505    D102H             1274              57                        20   \n",
       "1  201505    A111H              884              67                        21   \n",
       "2  201505    A210H              977             111                        31   \n",
       "3  201505    B120H              457              66                        11   \n",
       "4  201505    Y104H             1312             100                        27   \n",
       "\n",
       "   ClinicalReason  NonClinicalCapacityReason  OtherReason  Year Month_str  \\\n",
       "0               7                         30            0  2015        05   \n",
       "1              25                         16            5  2015        05   \n",
       "2              45                         11           24  2015        05   \n",
       "3              10                         45            0  2015        05   \n",
       "4              54                         10            9  2015        05   \n",
       "\n",
       "     _id                      LocationName Postcode  \\\n",
       "0  240.0  Golden Jubilee National Hospital  G81 4DY   \n",
       "1    5.0    University Hospital Crosshouse  KA2 0BE   \n",
       "2   11.0           University Hospital Ayr  KA6 6DX   \n",
       "3   23.0          Borders General Hospital  TD6 9BS   \n",
       "4    NaN                               NaN      NaN   \n",
       "\n",
       "                             AddressLine         HB  \n",
       "0            Agamemnon Street, Clydebank     SB0801  \n",
       "1  Kilmarnock Road, Kilmarnock, Ayrshire  S08000015  \n",
       "2                Dalmellington Road, Ayr  S08000015  \n",
       "3                                Melrose  S08000016  \n",
       "4                                    NaN        NaN  "
      ]
     },
     "execution_count": 39,
     "metadata": {},
     "output_type": "execute_result"
    }
   ],
   "source": [
    "# Making sure both code columns have the same name to make merging easier.\n",
    "hospitals.rename({'Location':'Hospital'}, axis = 1, inplace = True)\n",
    "# Dropping any missing values\n",
    "hospitals = hospitals.dropna(axis = 1)\n",
    "# Merging\n",
    "data = pd.merge(data, hospitals, how = 'left', on = 'Hospital')\n",
    "data.head()"
   ]
  },
  {
   "cell_type": "code",
   "execution_count": 40,
   "metadata": {},
   "outputs": [
    {
     "data": {
      "text/html": [
       "<div>\n",
       "<style scoped>\n",
       "    .dataframe tbody tr th:only-of-type {\n",
       "        vertical-align: middle;\n",
       "    }\n",
       "\n",
       "    .dataframe tbody tr th {\n",
       "        vertical-align: top;\n",
       "    }\n",
       "\n",
       "    .dataframe thead th {\n",
       "        text-align: right;\n",
       "    }\n",
       "</style>\n",
       "<table border=\"1\" class=\"dataframe\">\n",
       "  <thead>\n",
       "    <tr style=\"text-align: right;\">\n",
       "      <th></th>\n",
       "      <th>Hospital</th>\n",
       "      <th>Location</th>\n",
       "    </tr>\n",
       "  </thead>\n",
       "  <tbody>\n",
       "    <tr>\n",
       "      <th>0</th>\n",
       "      <td>A101H</td>\n",
       "      <td>Arran War Memorial Hospital</td>\n",
       "    </tr>\n",
       "    <tr>\n",
       "      <th>1</th>\n",
       "      <td>A103H</td>\n",
       "      <td>Ayrshire Central Hospital</td>\n",
       "    </tr>\n",
       "    <tr>\n",
       "      <th>2</th>\n",
       "      <td>A105H</td>\n",
       "      <td>Kirklandside Hospital</td>\n",
       "    </tr>\n",
       "    <tr>\n",
       "      <th>3</th>\n",
       "      <td>A110H</td>\n",
       "      <td>Lady Margaret Hospital</td>\n",
       "    </tr>\n",
       "    <tr>\n",
       "      <th>4</th>\n",
       "      <td>A111H</td>\n",
       "      <td>University Hospital Crosshouse</td>\n",
       "    </tr>\n",
       "    <tr>\n",
       "      <th>...</th>\n",
       "      <td>...</td>\n",
       "      <td>...</td>\n",
       "    </tr>\n",
       "    <tr>\n",
       "      <th>272</th>\n",
       "      <td>T324H</td>\n",
       "      <td>Dudhope Young Peoples Inpatient Unit</td>\n",
       "    </tr>\n",
       "    <tr>\n",
       "      <th>273</th>\n",
       "      <td>T325H</td>\n",
       "      <td>CAMHS Hospital Unit</td>\n",
       "    </tr>\n",
       "    <tr>\n",
       "      <th>274</th>\n",
       "      <td>W106H</td>\n",
       "      <td>St Brendans Cot Hospital</td>\n",
       "    </tr>\n",
       "    <tr>\n",
       "      <th>275</th>\n",
       "      <td>W107H</td>\n",
       "      <td>Western Isles Hospital</td>\n",
       "    </tr>\n",
       "    <tr>\n",
       "      <th>276</th>\n",
       "      <td>W108H</td>\n",
       "      <td>Uist &amp; Barra Hospital</td>\n",
       "    </tr>\n",
       "  </tbody>\n",
       "</table>\n",
       "<p>277 rows × 2 columns</p>\n",
       "</div>"
      ],
      "text/plain": [
       "    Hospital                              Location\n",
       "0      A101H           Arran War Memorial Hospital\n",
       "1      A103H             Ayrshire Central Hospital\n",
       "2      A105H                 Kirklandside Hospital\n",
       "3      A110H                Lady Margaret Hospital\n",
       "4      A111H        University Hospital Crosshouse\n",
       "..       ...                                   ...\n",
       "272    T324H  Dudhope Young Peoples Inpatient Unit\n",
       "273    T325H                   CAMHS Hospital Unit\n",
       "274    W106H              St Brendans Cot Hospital\n",
       "275    W107H                Western Isles Hospital\n",
       "276    W108H                 Uist & Barra Hospital\n",
       "\n",
       "[277 rows x 2 columns]"
      ]
     },
     "execution_count": 40,
     "metadata": {},
     "output_type": "execute_result"
    }
   ],
   "source": [
    "# We will also create a smaller version, containing only the names and code. This will avoid introducing unwanted columns in the future.\n",
    "hospital_names = pd.DataFrame({'Hospital':hospitals['Hospital'], 'Location':hospitals['LocationName']})\n",
    "hospital_names"
   ]
  },
  {
   "cell_type": "markdown",
   "metadata": {},
   "source": [
    "While we did get rid of any NAs in the dataset, this is still no guarantee that the data is complete. Let's investigate whether we actually have the data for all the hospitals over all the months:"
   ]
  },
  {
   "cell_type": "code",
   "execution_count": 41,
   "metadata": {},
   "outputs": [
    {
     "name": "stdout",
     "output_type": "stream",
     "text": [
      "The total number of months in this dataset is: 86\n",
      "30 Of the hospitals in the dataset have data for all months.\n",
      "Most hospitals have data for 86 months.\n"
     ]
    },
    {
     "data": {
      "image/png": "[encoded data removed]",
      "text/plain": [
       "<Figure size 432x288 with 1 Axes>"
      ]
     },
     "metadata": {
      "needs_background": "light"
     },
     "output_type": "display_data"
    }
   ],
   "source": [
    "Hospitals = []\n",
    "for hospital in data['Hospital'].unique():\n",
    "    n_months = data[data['Hospital'] == hospital].shape[0]\n",
    "    Hospitals.append(n_months)\n",
    "\n",
    "Completeness = pd.Series(data = Hospitals, index = data['Hospital'].unique())\n",
    "Completeness.hist(bins = 30)\n",
    "print('The total number of months in this dataset is:',Completeness.max())\n",
    "print(Completeness[Completeness == Completeness.max()].shape[0],'Of the hospitals in the dataset have data for all months.')\n",
    "print('Most hospitals have data for', Completeness.mode()[0],'months.')"
   ]
  },
  {
   "cell_type": "markdown",
   "metadata": {},
   "source": [
    "As we can see, we actually only have the complete data for 30 of the hospitals. Now, this gives us multiple options:\n",
    "1. Remove the hospitals below a certain threshold of completeness and potentially all that have values missing\n",
    "2. Try and introduce new data where it is currently missing. This could be done for example by taking the mean of this hospital's data adjacent data, or by using more complex methods such as K nearest neighbours\n",
    "3. Finally, we could accept that we have incomplete data, but ensure we take this into account when analysing our findings\n",
    "\n",
    "To be able to decide on the right course of action, let's investigate the issue a little bit further:"
   ]
  },
  {
   "cell_type": "code",
   "execution_count": 42,
   "metadata": {},
   "outputs": [
    {
     "name": "stdout",
     "output_type": "stream",
     "text": [
      "S319H    16\n",
      "Y104H    35\n",
      "R103H    37\n",
      "R101H    49\n",
      "Y177C    50\n",
      "dtype: int64\n",
      "The hospital with the most months missing is the 236    Royal Hospital for Children and Young People\n",
      "Name: Location, dtype: object\n"
     ]
    },
    {
     "data": {
      "text/plain": [
       "3047    202104\n",
       "3090    202105\n",
       "3132    202106\n",
       "3173    202107\n",
       "3215    202108\n",
       "3251    202109\n",
       "3327    202110\n",
       "3328    202110\n",
       "3377    202103\n",
       "3424    202111\n",
       "3466    202112\n",
       "3508    202201\n",
       "3550    202202\n",
       "3592    202203\n",
       "3640    202204\n",
       "3676    202205\n",
       "Name: Month, dtype: object"
      ]
     },
     "execution_count": 42,
     "metadata": {},
     "output_type": "execute_result"
    }
   ],
   "source": [
    "# Firstly, let us see which hospitals have the most missing months and whether there might be a reason for that\n",
    "print(Completeness.sort_values().head())\n",
    "print('The hospital with the most months missing is the', hospital_names.loc[hospital_names['Hospital'] == 'S319H']['Location'])\n",
    "\n",
    "data[data['Hospital'] == 'S319H']['Month']"
   ]
  },
  {
   "cell_type": "markdown",
   "metadata": {},
   "source": [
    "So we can see that the hospital with the most missing months is the Royal Hospital for Children and Young People, and that the data for that hospital only start in April of 2021. Now, a quick google search reveals that the hospital was only opened in 2021 which explains why there were no earlier data. In this case imputing data where there are missing would be wrong and it highlights that there might be good reasons why the data are missing and unless we examine each case on its own we couldn't be sure that imputing would be appropriate here. The best option therefore seems to be to keep the incompleteness of the data set in mind, and accordingly remove affected hospitals where required."
   ]
  },
  {
   "cell_type": "markdown",
   "metadata": {},
   "source": [
    "## 4. Have cancellations for capacity reasons gotten worse?\n",
    "\n",
    "The initial analysis done by Public Health Scotland already gives us an indication to answer this, as their report includes conclusions on the development of the total number of cancellations over time, as well as a graph which plots the number of  planned operations and the number of cancellations for each type over time. To really answer the question whether cancellations for capacity reasons have gotten worse though, we want to look at the trend of the % of all planned operations that were cancelled due to capacity."
   ]
  },
  {
   "cell_type": "code",
   "execution_count": 43,
   "metadata": {},
   "outputs": [],
   "source": [
    "\n",
    "grouped_data = data.groupby(by ='Month').sum().sort_values(by='Month')\n",
    "grouped_data.drop(columns = ['Year'], inplace = True)\n",
    "grouped_data['%_Capacity_Planned'] = (grouped_data['NonClinicalCapacityReason']/grouped_data['TotalOperations'])*100\n",
    "\n"
   ]
  },
  {
   "cell_type": "markdown",
   "metadata": {},
   "source": [
    "First, let's plot this to get a first impression."
   ]
  },
  {
   "cell_type": "code",
   "execution_count": 44,
   "metadata": {},
   "outputs": [
    {
     "data": {
      "image/png": "[encoded data removed]",
      "text/plain": [
       "<Figure size 432x288 with 1 Axes>"
      ]
     },
     "metadata": {
      "needs_background": "light"
     },
     "output_type": "display_data"
    }
   ],
   "source": [
    "grouped_data.plot(y = '%_Capacity_Planned');"
   ]
  },
  {
   "cell_type": "markdown",
   "metadata": {},
   "source": [
    "Interesting! There are a lot of ups and downs, but it is difficult to identify any long-term patterns. Getting a lower resolution of the data might be helpful. To make sure we capture any seasonality which we might reasonably expect to be present, we should look at this on a yearly basis. Let's have a look at the date range in our dataset:"
   ]
  },
  {
   "cell_type": "code",
   "execution_count": 45,
   "metadata": {},
   "outputs": [
    {
     "name": "stdout",
     "output_type": "stream",
     "text": [
      "The first month in the dataset is 201505\n",
      "The last month in the dataset is 202205\n",
      "The dataset includes 85 months, equalling 7.083333333333333 years.\n"
     ]
    }
   ],
   "source": [
    "print(\"The first month in the dataset is\", grouped_data.index[0])\n",
    "print(\"The last month in the dataset is\", grouped_data.index[-1])\n",
    "print(\"The dataset includes\", grouped_data.shape[0], \"months, equalling\", grouped_data.shape[0]/12, \"years.\")"
   ]
  },
  {
   "cell_type": "markdown",
   "metadata": {},
   "source": [
    "As we can see, the dataset starts and ends in May. We can therefore not simply use calendar years, but have bin the data, making sure each bin contains 12 months. To make sure we include the most recent data available, we will have to drop the oldest data point from May 2015."
   ]
  },
  {
   "cell_type": "code",
   "execution_count": 46,
   "metadata": {},
   "outputs": [],
   "source": [
    "annual_data = grouped_data.drop('201505', axis = 0)\n",
    "periods = ['2015/16','2016/17','2017/18','2018/19','2019/20','2020/21','2021/22']\n",
    "annual_data['Month'] = annual_data.index.astype('int')\n",
    "annual_data['Period'] = pd.cut(annual_data['Month'], bins = 7, labels = periods)\n",
    "annual_data = annual_data.drop('Month', axis =1)\n",
    "annual_data = annual_data.groupby(by = 'Period').sum()\n",
    "annual_data['%_Capacity_Planned'] = (annual_data['NonClinicalCapacityReason']/annual_data['TotalOperations'])*100"
   ]
  },
  {
   "cell_type": "code",
   "execution_count": 47,
   "metadata": {},
   "outputs": [
    {
     "data": {
      "image/png": "[encoded data removed]",
      "text/plain": [
       "<Figure size 1080x360 with 1 Axes>"
      ]
     },
     "metadata": {
      "needs_background": "light"
     },
     "output_type": "display_data"
    }
   ],
   "source": [
    "plt.figure(figsize = (15,5))\n",
    "\n",
    "plt.bar(x = annual_data.index, height = annual_data['%_Capacity_Planned'])\n",
    "plt.title('Annual % of Planned Operations Cancelled due to Capacity') \n",
    "plt.ylabel('%')\n",
    "plt.grid(axis = 'y', which = 'both', linestyle = '--')\n",
    "plt.savefig(\"timeseries.png\", format = 'png', dpi = 200)\n",
    "plt.show();"
   ]
  },
  {
   "cell_type": "code",
   "execution_count": 48,
   "metadata": {},
   "outputs": [
    {
     "data": {
      "image/png": "[encoded data removed]",
      "text/plain": [
       "<Figure size 1080x360 with 1 Axes>"
      ]
     },
     "metadata": {
      "needs_background": "light"
     },
     "output_type": "display_data"
    }
   ],
   "source": [
    "last_12_months = grouped_data[-12:]\n",
    "plt.figure(figsize = (15,5))\n",
    "\n",
    "plt.bar(x = last_12_months.index, height = last_12_months['%_Capacity_Planned'])\n",
    "plt.title('Monthly % of Planned Operations Cancelled due to Capacity') \n",
    "plt.ylabel('%')\n",
    "plt.grid(axis = 'y', which = 'both', linestyle = '--')\n",
    "plt.savefig(\"timeseries.png\", format = 'png', dpi = 200)\n",
    "plt.show();"
   ]
  },
  {
   "cell_type": "code",
   "execution_count": 49,
   "metadata": {},
   "outputs": [
    {
     "data": {
      "image/png": "[encoded data removed]",
      "text/plain": [
       "<Figure size 1080x360 with 1 Axes>"
      ]
     },
     "metadata": {
      "needs_background": "light"
     },
     "output_type": "display_data"
    }
   ],
   "source": [
    "month_generator = lambda month: month[4:]\n",
    "grouped_data['Month_str'] = grouped_data.index\n",
    "grouped_data['Month_str'] = grouped_data['Month_str'].apply(month_generator)\n",
    "may_data = grouped_data[grouped_data['Month_str'] == '05']\n",
    "\n",
    "plt.figure(figsize = (15,5))\n",
    "\n",
    "plt.bar(x = may_data.index, height = may_data['%_Capacity_Planned'])\n",
    "plt.title('% of Planned Operations Cancelled due to Capacity in each May from 2015 to 2022') \n",
    "plt.ylabel('%')\n",
    "plt.grid(axis = 'y', which = 'both', linestyle = '--')\n",
    "plt.savefig(\"timeseries.png\", format = 'png', dpi = 200)\n",
    "plt.show();"
   ]
  },
  {
   "cell_type": "markdown",
   "metadata": {},
   "source": [
    "We can see that both lines follow a similar pattern. There does not seem to be an overall increase in either measure so far in 2022."
   ]
  },
  {
   "cell_type": "markdown",
   "metadata": {},
   "source": [
    "## 5. Does it matter which hospital you go to?\n",
    "\n",
    "So far, we have taken a look at the Scotland-wide trends. However, for most of us only the situation at our local hospital will have a real impact on our lives. Let's therefore take a look at how the different hospitals performed, taking into account data all the way back to 2015. Which hospitals did best and which did worst in the long run?"
   ]
  },
  {
   "cell_type": "code",
   "execution_count": 50,
   "metadata": {},
   "outputs": [
    {
     "name": "stdout",
     "output_type": "stream",
     "text": [
      "The 5 hospitals with the highest % of Operations getting cancelled for capacity reasons are:     %PlannedCapacity                                      Location Hospital\n",
      "17          5.337992                             Raigmore Hospital    H202H\n",
      "2           4.845708                      Borders General Hospital    B120H\n",
      "8           3.574666                             Victoria Hospital    F704H\n",
      "22          3.363026                      Aberdeen Royal Infirmary    N101H\n",
      "35          3.179510  Royal Hospital for Children and Young People    S319H\n",
      "\n",
      "The 5 hospitals with the lowest % of Operations getting cancelled for capacity reasons are:     %PlannedCapacity                        Location Hospital\n",
      "25          0.044563     Aberdeen Maternity Hospital    N161H\n",
      "4           0.511347  Vale of Leven General Hospital    C206H\n",
      "12          0.516589           New Victoria Hospital    G306H\n",
      "45          0.670038                             NaN    Y177C\n",
      "39          0.739729      Falkirk Community Hospital    V102H\n",
      "There are 47 hospitals in the dataset.\n"
     ]
    },
    {
     "data": {
      "image/png": "[encoded data removed]",
      "text/plain": [
       "<Figure size 432x288 with 1 Axes>"
      ]
     },
     "metadata": {
      "needs_background": "light"
     },
     "output_type": "display_data"
    }
   ],
   "source": [
    "hospital_data = data.groupby(by = ['Hospital']).sum()\n",
    "hospital_data = hospital_data.drop('Year', axis = 1)\n",
    "hospital_data = pd.merge(hospital_data, hospital_names, how = 'left', on = 'Hospital')\n",
    "\n",
    "hospital_data['%PlannedCapacity'] = (hospital_data['NonClinicalCapacityReason']/hospital_data['TotalOperations'])*100\n",
    "print('The 5 hospitals with the highest % of Operations getting cancelled for capacity reasons are:', hospital_data.sort_values(by = '%PlannedCapacity', ascending = False).head()[['%PlannedCapacity', 'Location', 'Hospital']])\n",
    "print('')\n",
    "print('The 5 hospitals with the lowest % of Operations getting cancelled for capacity reasons are:', hospital_data.sort_values(by = '%PlannedCapacity', ascending = True).head()[['%PlannedCapacity', 'Location', 'Hospital']])\n",
    "hospital_data['%PlannedCapacity'].hist(bins = 5);\n",
    "print('There are', hospital_data.shape[0], 'hospitals in the dataset.')"
   ]
  },
  {
   "cell_type": "code",
   "execution_count": 51,
   "metadata": {},
   "outputs": [
    {
     "data": {
      "image/png": "[encoded data removed]",
      "text/plain": [
       "<Figure size 1080x360 with 1 Axes>"
      ]
     },
     "metadata": {
      "needs_background": "light"
     },
     "output_type": "display_data"
    }
   ],
   "source": [
    "bot3 = hospital_data['%PlannedCapacity'].nlargest(3)\n",
    "top3 = hospital_data['%PlannedCapacity'].nsmallest(3)\n",
    "Extremes = pd.concat([top3,bot3])\n",
    "Extremes = pd.concat([Extremes, hospital_data['Location']], axis = 1, join = 'inner').sort_values('%PlannedCapacity', ascending = False)\n",
    "plt.figure(figsize = (15,5))\n",
    "graph = plt.barh(y = Extremes['Location'], width = Extremes['%PlannedCapacity'], color = ['red', 'red', 'red','green', 'green', 'green' ])\n",
    "plt.grid(axis = 'x', which = 'both', linestyle = '--')\n",
    "plt.title('Hospitals with Lowest and Highest % of Planned Operations Cancelled for Capacity Reasons from 2015 to 2022')\n",
    "plt.xticks([0.5,1,1.5,2,2.5,3,3.5,4,4.5,5,5.5])\n",
    "plt.show()"
   ]
  },
  {
   "cell_type": "markdown",
   "metadata": {},
   "source": [
    "We can see that the there is quite the gap between hospitals. In fact, the data suggest that more than 1 in 19 planned operations gets cancelled for capacity reasons at Raigmore Hospital, but only 1 in 2,500 are cancelled for the same reason at Aberdeen Maternity Hospital. It is also interesting to note that data seem to follow a slightly right skewed normal distribution.\n",
    "\n",
    "Also note that the hospital with the code Y177C refers to Dumfries and Galloway Royal Infirmary. The issue arises due to a new code which is not reflected in the hospital names data used (see [here](https://www.isdscotland.org/Health-Topics/Hospital-Care/Publications/2018-06-26/Acute-Hospital-Publication/official-data-release-information/) for further info).\n",
    "\n",
    "Remember though, that we had some reservations on the completeness of our data. So let's make sure this does not impact our results:"
   ]
  },
  {
   "cell_type": "code",
   "execution_count": 52,
   "metadata": {},
   "outputs": [
    {
     "name": "stdout",
     "output_type": "stream",
     "text": [
      "For Raigmore Hospital we have data on 86 months.\n",
      "For Aberdeen Maternity Hospital we have data on 86 months.\n"
     ]
    }
   ],
   "source": [
    "print('For Raigmore Hospital we have data on', Completeness['H202H'], 'months.')\n",
    "print('For Aberdeen Maternity Hospital we have data on', Completeness['N161H'], 'months.')"
   ]
  },
  {
   "cell_type": "markdown",
   "metadata": {},
   "source": [
    "As we can see, we have full data for both the best and the worst hospital in terms of cancellations due to capacity reasons. The below scatter plot also confirms that there is no obvious relationship between the completeness of data for hospitals and their performance in this comparison."
   ]
  },
  {
   "cell_type": "code",
   "execution_count": 53,
   "metadata": {},
   "outputs": [
    {
     "data": {
      "image/png": "[encoded data removed]",
      "text/plain": [
       "<Figure size 432x288 with 1 Axes>"
      ]
     },
     "metadata": {
      "needs_background": "light"
     },
     "output_type": "display_data"
    }
   ],
   "source": [
    "plt.scatter(x = hospital_data.sort_values('Hospital')['%PlannedCapacity'], y = Completeness.sort_index());"
   ]
  },
  {
   "cell_type": "markdown",
   "metadata": {},
   "source": [
    "Naturally, 86 months is a long time. So let's take compare hospitals with more focus: What % of their planned operations did they have to cancel due to capacity in 2022?"
   ]
  },
  {
   "cell_type": "code",
   "execution_count": 54,
   "metadata": {},
   "outputs": [
    {
     "name": "stdout",
     "output_type": "stream",
     "text": [
      "The 5 hospitals with the highest % of Operations getting cancelled for capacity reasons are:     %PlannedCapacity                            Location Hospital\n",
      "14          9.246902         Royal Hospital for Children    G513H\n",
      "2           8.750000            Borders General Hospital    B120H\n",
      "17          8.467742                   Raigmore Hospital    H202H\n",
      "24          8.018328  Royal Aberdeen Children's Hospital    N121H\n",
      "16          6.624606          Caithness General Hospital    H103H\n",
      "\n",
      "The 5 hospitals with the lowest % of Operations getting cancelled for capacity reasons are:     %PlannedCapacity                     Location Hospital\n",
      "38          0.000000  Galloway Community Hospital    Y144H\n",
      "25          0.000000  Aberdeen Maternity Hospital    N161H\n",
      "23          0.507185     Woodend General Hospital    N102H\n",
      "40          0.565504                          NaN    Y177C\n",
      "35          0.589623          Stracathro Hospital    T312H\n",
      "\n",
      "There are 42 hospitals in the dataset.\n"
     ]
    },
    {
     "data": {
      "image/png": "[encoded data removed]",
      "text/plain": [
       "<Figure size 432x288 with 1 Axes>"
      ]
     },
     "metadata": {
      "needs_background": "light"
     },
     "output_type": "display_data"
    }
   ],
   "source": [
    "hospital_data_22 = data[data['Year'] == 2022]\n",
    "hospital_data_22 = hospital_data_22.groupby(by = ['Hospital']).sum()\n",
    "hospital_data_22 = hospital_data_22.drop('Year', axis = 1)\n",
    "hospital_data_22 = pd.merge(hospital_data_22, hospital_names, how = 'left', on = 'Hospital')\n",
    "\n",
    "hospital_data_22['%PlannedCapacity'] = (hospital_data_22['NonClinicalCapacityReason']/hospital_data_22['TotalOperations'])*100\n",
    "print('The 5 hospitals with the highest % of Operations getting cancelled for capacity reasons are:', hospital_data_22.sort_values(by = '%PlannedCapacity', ascending = False).head()[['%PlannedCapacity','Location', 'Hospital']])\n",
    "print('')\n",
    "print('The 5 hospitals with the lowest % of Operations getting cancelled for capacity reasons are:', hospital_data_22.sort_values(by = '%PlannedCapacity', ascending = True).head()[['%PlannedCapacity','Location', 'Hospital']])\n",
    "print('')\n",
    "hospital_data_22['%PlannedCapacity'].hist(bins = 25);\n",
    "print('There are', hospital_data_22.shape[0], 'hospitals in the dataset.')"
   ]
  },
  {
   "cell_type": "code",
   "execution_count": 55,
   "metadata": {},
   "outputs": [
    {
     "data": {
      "image/png": "[encoded data removed]",
      "text/plain": [
       "<Figure size 1080x360 with 1 Axes>"
      ]
     },
     "metadata": {
      "needs_background": "light"
     },
     "output_type": "display_data"
    }
   ],
   "source": [
    "bot3_22 = hospital_data_22['%PlannedCapacity'].nlargest(3)\n",
    "top3_22 = hospital_data_22['%PlannedCapacity'].nsmallest(3)\n",
    "Extremes_22 = pd.concat([top3_22,bot3_22])\n",
    "Extremes_22 = pd.concat([Extremes_22, hospital_data_22['Location']], axis = 1, join = 'inner').sort_values('%PlannedCapacity', ascending = False)\n",
    "plt.figure(figsize = (15,5))\n",
    "graph = plt.barh(y = Extremes_22['Location'], width = Extremes_22['%PlannedCapacity'], color = ['red', 'red', 'red','green', 'green', 'green' ])\n",
    "plt.grid(axis = 'x', which = 'both', linestyle = '--')\n",
    "plt.title('Hospitals with Lowest and Highest % of Planned Operations Cancelled for Capacity Reasons in 2022')\n",
    "plt.xticks([0.5,1,1.5,2,2.5,3,3.5,4,4.5,5,5.5,6,6.5,7,7.5,8,8.5,9,9.5])\n",
    "plt.show()"
   ]
  },
  {
   "cell_type": "markdown",
   "metadata": {},
   "source": [
    "This time we see even more extreme differences than when looking at the last 7 years: While Galloway Community Hospital and Aberdeen Maternity Hospital didn't have a single cancellation due to capacity reasons, nearly 1/10th of all planned operations were cancelled at the Royal Hospital for children in Glasgow. Looking at the distribution we can actually see that most hospitals had to cancel less than 3% of their planned operations due to capacity reasons, and only a few hospitals performed really badly. It is safe to say though, that it does make a difference which hospital you visit.\n",
    "Finally let's examine which hospitals are improving, and which are getting worse. We'll do this first by comparing their May 2022 data against May 2015 and then against May 2021."
   ]
  },
  {
   "cell_type": "code",
   "execution_count": 56,
   "metadata": {},
   "outputs": [
    {
     "name": "stdout",
     "output_type": "stream",
     "text": [
      "LocationName\n",
      "Borders General Hospital      -6.448769\n",
      "Western Isles Hospital        -5.882353\n",
      "Galloway Community Hospital   -4.132231\n",
      "Ninewells Hospital            -2.984690\n",
      "NaN                           -2.747253\n",
      "Name: %PlannedCapacity, dtype: float64\n",
      "\n",
      "LocationName\n",
      "Royal Hospital for Children           13.333102\n",
      "Royal Aberdeen Children's Hospital     8.282999\n",
      "Victoria Hospital                      3.769466\n",
      "Caithness General Hospital             3.573285\n",
      "Belford Hospital                       2.857143\n",
      "Name: %PlannedCapacity, dtype: float64\n"
     ]
    },
    {
     "data": {
      "image/png": "[encoded data removed]",
      "text/plain": [
       "<Figure size 432x288 with 1 Axes>"
      ]
     },
     "metadata": {
      "needs_background": "light"
     },
     "output_type": "display_data"
    }
   ],
   "source": [
    "comp_data = data\n",
    "comp_data = comp_data.set_index('LocationName')\n",
    "comp_data['%PlannedCapacity'] = (comp_data['NonClinicalCapacityReason']/comp_data['TotalOperations'])*100\n",
    "May2015 = comp_data[comp_data['Month'] == '201505']\n",
    "May2015 = May2015['%PlannedCapacity']\n",
    "May2022 = comp_data[comp_data['Month'] == '202205']\n",
    "May2022 = May2022['%PlannedCapacity']\n",
    "Difference = May2022 - May2015\n",
    "print(Difference.nsmallest(5))\n",
    "print('')\n",
    "print(Difference.nlargest(5))\n",
    "Difference.hist();"
   ]
  },
  {
   "cell_type": "code",
   "execution_count": 57,
   "metadata": {},
   "outputs": [
    {
     "name": "stdout",
     "output_type": "stream",
     "text": [
      "LocationName\n",
      "Royal Hospital for Children and Young People   -1.784398\n",
      "Dr Gray's Hospital                             -1.707159\n",
      "University Hospital Ayr                        -1.328370\n",
      "Stracathro Hospital                            -1.255791\n",
      "Galloway Community Hospital                    -0.917431\n",
      "Name: %PlannedCapacity, dtype: float64\n",
      "\n",
      "LocationName\n",
      "Royal Hospital for Children           11.271140\n",
      "Royal Aberdeen Children's Hospital     9.032502\n",
      "Raigmore Hospital                      5.644520\n",
      "Belford Hospital                       5.000000\n",
      "Caithness General Hospital             4.054054\n",
      "Name: %PlannedCapacity, dtype: float64\n"
     ]
    },
    {
     "data": {
      "image/png": "[encoded data removed]",
      "text/plain": [
       "<Figure size 432x288 with 1 Axes>"
      ]
     },
     "metadata": {
      "needs_background": "light"
     },
     "output_type": "display_data"
    }
   ],
   "source": [
    "May2021 = comp_data[comp_data['Month'] == '202105']\n",
    "May2021 = May2021['%PlannedCapacity']\n",
    "May2022 = comp_data[comp_data['Month'] == '202205']\n",
    "May2022 = May2022['%PlannedCapacity']\n",
    "Difference = May2022 - May2021\n",
    "print(Difference.nsmallest(5))\n",
    "print('')\n",
    "print(Difference.nlargest(5))\n",
    "Difference.hist();"
   ]
  },
  {
   "cell_type": "markdown",
   "metadata": {},
   "source": [
    "For both of these comparisons we can see that most hospitals' performance did not change by a lot. The situation at the Royal Hospital for Children in Glasgow and the Royal Aberdeen Children's Hospital in particular has gotten a lot worse, and their % of planned operations which are due to capacity has increased by 11.3 and 9 percentage points respectively compared to May 2021 (note that this does not mean it has increased by 11.3% and 9%, but rather that the new percentage value is 11.3 and 9 points higher) and by 13.3 and 8.3 points compared to May 2015. \n",
    "\n",
    "Any decreases in the % of planned operations cancelled due to capacity from May 2021 to May 2022 were small, but 2 hospitals managed to improve their performance in this statistic by over 5 points compared to 2015."
   ]
  },
  {
   "cell_type": "markdown",
   "metadata": {},
   "source": [
    "## 6. Can we predict how your hospital will do next month?\n",
    "\n",
    "Having analysed how hospitals are performing at present and compared that to the past, the next logical step is to look into the future: can we predict how a certain hospital will do in the month to come?\n",
    "\n",
    "The first thing we have to do for that is to introduce the metric we are looking to produce into the dataset. "
   ]
  },
  {
   "cell_type": "code",
   "execution_count": 58,
   "metadata": {},
   "outputs": [],
   "source": [
    "data['%PlannedCapacity'] = (data['NonClinicalCapacityReason']/data['TotalOperations'])*100"
   ]
  },
  {
   "cell_type": "markdown",
   "metadata": {},
   "source": [
    "Next, let's examine the dataset with regards to what features we have at our disposal. We need any data we use in the prediction to be available at the point of time we are making the prediction. This means we will have to be working with lag data. We also have the information on the hospital, the month and year. Other geographical information such as the health board are available, but we can expect that any information they might add are already contained in the hospital. \n",
    "Realistically therefore, the features used in our model will be lag values of the target variable, % of planned operations to be cancelled for capacity reasons, as well as well as timestamp and hospital data. \n",
    "As we are dealing with time-series information, it will also be useful to examine the data for seasonality:"
   ]
  },
  {
   "cell_type": "code",
   "execution_count": 59,
   "metadata": {},
   "outputs": [
    {
     "data": {
      "image/png": "[encoded data removed]",
      "text/plain": [
       "<Figure size 432x288 with 1 Axes>"
      ]
     },
     "metadata": {
      "needs_background": "light"
     },
     "output_type": "display_data"
    }
   ],
   "source": [
    "data.groupby('Month_str').mean()['%PlannedCapacity'].plot(kind = 'bar');"
   ]
  },
  {
   "cell_type": "markdown",
   "metadata": {},
   "source": [
    "It does indeed look like there is some seasonality in the % of operations which have to be cancelled for capacity reasons. We should take this into account when choosing how many lag values to include."
   ]
  },
  {
   "cell_type": "markdown",
   "metadata": {},
   "source": [
    "#### 1. Set up the necessary functions\n"
   ]
  },
  {
   "cell_type": "code",
   "execution_count": 60,
   "metadata": {},
   "outputs": [],
   "source": [
    "# 1. Select only the target variable & information on the hospital & Month as they will be the features included in the model\n",
    "lag_data = data[['%PlannedCapacity', 'Month', 'Hospital', 'Year']]\n",
    "#lag_data['Month'] = lag_data['Month'].astype('str')\n",
    "# 2. Introduce lag data\n",
    "def get_lag_data(data, target, nlags):\n",
    "\n",
    "    data = data.sort_values(by = ['Hospital','Month'])\n",
    "    for h in range(0,nlags) :\n",
    "        i = h+1\n",
    "        col_name = 'lag'+str(i)\n",
    "        data[col_name] = data[target].shift(periods = i)\n",
    "    data = data.dropna(axis = 0)\n",
    "    return data"
   ]
  },
  {
   "cell_type": "markdown",
   "metadata": {},
   "source": [
    "Before moving on, we will have to decide which modelling technique we will want to use as this will influence how we have to prepare our data. As we are looking for a numerical output, we will go with a simple linear regression model. Naturally, there are many different model types and techniques out there, some of which might be better suited. But we will keep it simple on this modelling attempt.\n",
    "\n",
    "This means we have to figure out what to do with our categorical variables, Hospital, and the Month (as year & Month). As we will need them to later be able to identify where our data belong to, we will move them into the index, and then set up a function to either dummyfy or drop them depending on the input given."
   ]
  },
  {
   "cell_type": "code",
   "execution_count": 61,
   "metadata": {},
   "outputs": [],
   "source": [
    "# 2. Dealing with categorical variables\n",
    "\n",
    "def cat_variables(data, dummyfy):\n",
    "    dum_data = data.set_index(['Hospital', 'Month'], drop = False)\n",
    "    cat_cols = dum_data.select_dtypes(include = 'object').columns\n",
    "    if dummyfy == True:\n",
    "        \n",
    "        for col in cat_cols:\n",
    "            dum_data = pd.concat([dum_data.drop(col, axis =1), pd.get_dummies(dum_data[col], prefix = col)], axis =1)\n",
    "            \n",
    "            \n",
    "    else:\n",
    "        dum_data.drop(cat_cols, axis = 1, inplace = True)\n",
    "    \n",
    "        \n",
    "    return dum_data"
   ]
  },
  {
   "cell_type": "markdown",
   "metadata": {},
   "source": [
    "We will use the 2022 data as our test set and use the data from 2015 to 2021 to train the model. Since this is time series data it makes sense to manually choose a cut-off date rather than randomly split the data into groups. As we discovered in our earlier analysis that there are no discernable trends in the data over time, using older data to train a model to make predictions for 2022 should not be an issue."
   ]
  },
  {
   "cell_type": "code",
   "execution_count": 62,
   "metadata": {},
   "outputs": [],
   "source": [
    "def splitting_data(data):\n",
    "    test = data[data['Year'] == 2022]\n",
    "    train = data[data['Year'] != 2022]\n",
    "\n",
    "    y_test = test['%PlannedCapacity']\n",
    "    X_test = test.drop('%PlannedCapacity', axis=1)\n",
    "\n",
    "    y_train = train['%PlannedCapacity']\n",
    "    X_train = train.drop('%PlannedCapacity', axis = 1)\n",
    "    \n",
    "    return y_test,y_train,X_test,X_train\n",
    "    "
   ]
  },
  {
   "cell_type": "markdown",
   "metadata": {},
   "source": [
    "Finally, we will define a function to prepare the data using the above defined functions and fit the model to them. We will also evaluate the model using the Root Mean Squared Error and the r squared score."
   ]
  },
  {
   "cell_type": "code",
   "execution_count": 63,
   "metadata": {},
   "outputs": [],
   "source": [
    "# 3. Set Up Model building function \n",
    "def cancellation_predictor(data, target, nlags, dummyfy):\n",
    "    \n",
    "    model_data = get_lag_data(data, target, nlags)\n",
    "    \n",
    "    model_data = cat_variables(model_data, dummyfy)\n",
    "   \n",
    "    y_test, y_train, X_test, X_train = splitting_data(model_data)\n",
    "    \n",
    "\n",
    "    Model = LinearRegression(normalize = True)\n",
    "    Model.fit(X_train, y_train)\n",
    "    \n",
    "    preds_test = Model.predict(X_test)\n",
    "    preds_train = Model.predict(X_train)\n",
    "    \n",
    "    r2_test = r2_score(y_test, preds_test)\n",
    "    r2_train = r2_score(y_train, preds_train)\n",
    "    \n",
    "    RMSE_test = mean_squared_error(y_test, preds_test, squared = False)\n",
    "    RMSE_train = mean_squared_error(y_train, preds_train, squared = False)\n",
    "    \n",
    "    return y_test, y_train, X_test, X_train, Model, preds_train, preds_test, r2_train, r2_test, RMSE_train, RMSE_test\n",
    "    "
   ]
  },
  {
   "cell_type": "markdown",
   "metadata": {},
   "source": [
    "As we saw that there is seasonality in our data, we will run the first two attempts with 12 months lag to capture the seasonality. We will try once with dummy variables and once without."
   ]
  },
  {
   "cell_type": "code",
   "execution_count": 64,
   "metadata": {},
   "outputs": [],
   "source": [
    "y_test, y_train, X_test, X_train, Model, preds_train, preds_test, r2_train, r2_test, RMSE_train, RMSE_test = cancellation_predictor(lag_data, '%PlannedCapacity', 12, False)"
   ]
  },
  {
   "cell_type": "code",
   "execution_count": 65,
   "metadata": {},
   "outputs": [
    {
     "name": "stdout",
     "output_type": "stream",
     "text": [
      "Test R2 = 0.25058372723316535\n",
      "Train R2 = 0.1080412865688426\n",
      "Test RMSE = 3.0210674621531113\n",
      "Train RMSE = 2.7927747291391376\n"
     ]
    }
   ],
   "source": [
    "print('Test R2 =', r2_test)\n",
    "print('Train R2 =', r2_train)\n",
    "print('Test RMSE =', RMSE_test)\n",
    "print('Train RMSE =', RMSE_train)"
   ]
  },
  {
   "cell_type": "code",
   "execution_count": 66,
   "metadata": {},
   "outputs": [],
   "source": [
    "y_test2, y_train2, X_test2, X_train2, Model2, preds_train2, preds_test2, r2_train2, r2_test2, RMSE_train2, RMSE_test2 = cancellation_predictor(lag_data, '%PlannedCapacity', 12, True)"
   ]
  },
  {
   "cell_type": "code",
   "execution_count": 67,
   "metadata": {},
   "outputs": [
    {
     "name": "stdout",
     "output_type": "stream",
     "text": [
      "Test R2 = -9.111162158866655e+24\n",
      "Train R2 = 0.21590233183270935\n",
      "Test RMSE = 10533816580960.264\n",
      "Train RMSE = 2.6184760802791973\n"
     ]
    }
   ],
   "source": [
    "print('Test R2 =', r2_test2)\n",
    "print('Train R2 =', r2_train2)\n",
    "print('Test RMSE =', RMSE_test2)\n",
    "print('Train RMSE =', RMSE_train2)"
   ]
  },
  {
   "cell_type": "markdown",
   "metadata": {},
   "source": [
    "We can see that the results aren't great. The RMSE is quite large compared the magnitude of values we see in the data themselves. The R_squared is also quite low which indicates that we aren't capturing the variance in the data too well. \n",
    "Let's try out different numbers of lag values with and without dummy variables and see which combination performs best."
   ]
  },
  {
   "cell_type": "code",
   "execution_count": 68,
   "metadata": {},
   "outputs": [
    {
     "name": "stdout",
     "output_type": "stream",
     "text": [
      "    nlag  dummified          RMSE            R2\n",
      "17     9      False  2.990093e+00  2.658721e-01\n",
      "19    10      False  2.993062e+00  2.644135e-01\n",
      "15     8      False  3.012002e+00  2.550745e-01\n",
      "21    11      False  3.021039e+00  2.505979e-01\n",
      "23    12      False  3.021067e+00  2.505837e-01\n",
      "13     7      False  3.024221e+00  2.490185e-01\n",
      "11     6      False  3.064308e+00  2.289773e-01\n",
      "9      5      False  3.102662e+00  2.095556e-01\n",
      "7      4      False  3.106464e+00  2.076174e-01\n",
      "5      3      False  3.125580e+00  1.978354e-01\n",
      "3      2      False  3.192007e+00  1.633765e-01\n",
      "1      1      False  3.249071e+00  1.331963e-01\n",
      "22    12       True  1.053382e+13 -9.111162e+24\n",
      "16     9       True  3.469270e+13 -9.882767e+25\n",
      "0      1       True  6.176805e+13 -3.132781e+26\n",
      "10     6       True  6.823304e+13 -3.822890e+26\n",
      "18    10       True  7.523331e+13 -4.647534e+26\n",
      "14     8       True  9.330878e+13 -7.149034e+26\n",
      "4      3       True  1.014305e+14 -8.447715e+26\n",
      "8      5       True  1.195668e+14 -1.173880e+27\n",
      "20    11       True  2.538665e+14 -5.291919e+27\n",
      "6      4       True  2.675269e+14 -5.876752e+27\n",
      "12     7       True  3.571759e+14 -1.047530e+28\n",
      "2      2       True  5.562457e+14 -2.540596e+28\n"
     ]
    },
    {
     "data": {
      "image/png": "[encoded data removed]",
      "text/plain": [
       "<Figure size 432x288 with 1 Axes>"
      ]
     },
     "metadata": {
      "needs_background": "light"
     },
     "output_type": "display_data"
    }
   ],
   "source": [
    "poss_dumm_vals = [True, False]\n",
    "lags = []\n",
    "dumm = []\n",
    "RMSEs = []\n",
    "r2s = []\n",
    "for i in range(1,13):\n",
    "    for j in poss_dumm_vals:\n",
    "        y_test, y_train, X_test, X_train, Model, preds_train, preds_test, r2_train, r2_test, RMSE_train, RMSE_test = cancellation_predictor(lag_data, '%PlannedCapacity', i, j)\n",
    "        lags.append(i)\n",
    "        dumm.append(j)\n",
    "        RMSEs.append(RMSE_test)\n",
    "        r2s.append(r2_test)\n",
    "        \n",
    "models = pd.DataFrame(data = {'nlag':lags, 'dummified': dumm, 'RMSE': RMSEs, 'R2': r2s}).sort_values(by = 'RMSE')\n",
    "print(models)\n",
    "models.plot(x = 'RMSE', y = 'R2', kind = 'scatter');"
   ]
  },
  {
   "cell_type": "markdown",
   "metadata": {},
   "source": [
    "This output shows us multiple things:\n",
    "1. None of the models perform too well\n",
    "2. Those without dummy variables do a lot better than those with\n",
    "3. Amongst those models without dummy variables, higher lag values produce better results.\n"
   ]
  },
  {
   "cell_type": "markdown",
   "metadata": {},
   "source": [
    "We could try and fit a different type of model: As we do not a lot of samples but quite a lot of features if we consider the lag data and dummy variables, a Support Vector Regression model could be expected to perform better. We will try with a liner SVR first\n",
    "\n"
   ]
  },
  {
   "cell_type": "code",
   "execution_count": 69,
   "metadata": {},
   "outputs": [],
   "source": [
    "def cancellation_predictor_SVR(data, target='%PlannedCapacity', nlags = 12, dummyfy =  False, kernel ='linear', degree = 2, C = 1, gamma = 'scale'):\n",
    "    \n",
    "    model_data = get_lag_data(data, target, nlags)\n",
    "    \n",
    "    model_data = cat_variables(model_data, dummyfy)\n",
    "   \n",
    "    y_test, y_train, X_test, X_train = splitting_data(model_data)\n",
    "    \n",
    "    \n",
    "    Model = SVR(kernel = kernel, degree = degree, C = C, gamma = gamma)\n",
    "    Model.fit(X_train, y_train)\n",
    "    \n",
    "    preds_test = Model.predict(X_test)\n",
    "    preds_train = Model.predict(X_train)\n",
    "    \n",
    "    r2_test = r2_score(y_test, preds_test)\n",
    "    r2_train = r2_score(y_train, preds_train)\n",
    "    \n",
    "    RMSE_test = mean_squared_error(y_test, preds_test, squared = False)\n",
    "    RMSE_train = mean_squared_error(y_train, preds_train, squared = False)\n",
    "    \n",
    "    return y_test, y_train, X_test, X_train, Model, preds_train, preds_test, r2_train, r2_test, RMSE_train, RMSE_test\n",
    "    "
   ]
  },
  {
   "cell_type": "code",
   "execution_count": 70,
   "metadata": {},
   "outputs": [
    {
     "name": "stdout",
     "output_type": "stream",
     "text": [
      "    nlag  dummified      RMSE        R2\n",
      "13     7      False  2.902535  0.308237\n",
      "17     9      False  3.011518  0.255314\n",
      "15     8      False  3.037201  0.242558\n",
      "21    11      False  3.061425  0.230427\n",
      "9      5      False  3.188339  0.165298\n",
      "8      5       True  3.197175  0.160665\n",
      "5      3      False  3.215490  0.151022\n",
      "23    12      False  3.224243  0.146394\n",
      "18    10       True  3.233123  0.141685\n",
      "3      2      False  3.240528  0.137749\n",
      "6      4       True  3.260273  0.127209\n",
      "4      3       True  3.267276  0.123456\n",
      "11     6      False  3.277729  0.117838\n",
      "12     7       True  3.291171  0.110587\n",
      "16     9       True  3.303962  0.103661\n",
      "14     8       True  3.306190  0.102452\n",
      "19    10      False  3.351659  0.077594\n",
      "20    11       True  3.353329  0.076675\n",
      "22    12       True  3.369285  0.067867\n",
      "10     6       True  3.371246  0.066782\n",
      "2      2       True  3.376572  0.063831\n",
      "7      4      False  3.397827  0.052007\n",
      "1      1      False  3.524760 -0.020144\n",
      "0      1       True  3.590897 -0.058786\n"
     ]
    },
    {
     "data": {
      "image/png": "[encoded data removed]",
      "text/plain": [
       "<Figure size 432x288 with 1 Axes>"
      ]
     },
     "metadata": {
      "needs_background": "light"
     },
     "output_type": "display_data"
    }
   ],
   "source": [
    "poss_dumm_vals = [True, False]\n",
    "lags = []\n",
    "dumm = []\n",
    "RMSEs = []\n",
    "r2s = []\n",
    "for i in range(1,13):\n",
    "    for j in poss_dumm_vals:\n",
    "        y_test, y_train, X_test, X_train, Model, preds_train, preds_test, r2_train, r2_test, RMSE_train, RMSE_test = cancellation_predictor_SVR(lag_data, '%PlannedCapacity', i, j)\n",
    "        lags.append(i)\n",
    "        dumm.append(j)\n",
    "        RMSEs.append(RMSE_test)\n",
    "        r2s.append(r2_test)\n",
    "        \n",
    "models = pd.DataFrame(data = {'nlag':lags, 'dummified': dumm, 'RMSE': RMSEs, 'R2': r2s}).sort_values(by = 'RMSE')\n",
    "print(models)\n",
    "models.plot(x = 'RMSE', y = 'R2', kind = 'scatter');"
   ]
  },
  {
   "cell_type": "code",
   "execution_count": 76,
   "metadata": {},
   "outputs": [],
   "source": [
    "y_test, y_train, X_test, X_train, Model, preds_train, preds_test, r2_train, r2_test, RMSE_train, RMSE_test = cancellation_predictor_SVR(lag_data, '%PlannedCapacity', 7, False)"
   ]
  },
  {
   "cell_type": "code",
   "execution_count": 72,
   "metadata": {},
   "outputs": [
    {
     "name": "stdout",
     "output_type": "stream",
     "text": [
      "Test R2 = 0.3082373450851075\n",
      "Train R2 = 0.0759076938464689\n",
      "Test RMSE = 2.9025346985858276\n",
      "Train RMSE = 2.838660749779952\n"
     ]
    }
   ],
   "source": [
    "print('Test R2 =', r2_test)\n",
    "print('Train R2 =', r2_train)\n",
    "print('Test RMSE =', RMSE_test)\n",
    "print('Train RMSE =', RMSE_train)"
   ]
  },
  {
   "cell_type": "code",
   "execution_count": 101,
   "metadata": {
    "scrolled": true
   },
   "outputs": [
    {
     "data": {
      "image/png": "[encoded data removed]",
      "text/plain": [
       "<Figure size 432x288 with 1 Axes>"
      ]
     },
     "metadata": {
      "needs_background": "light"
     },
     "output_type": "display_data"
    }
   ],
   "source": [
    "predictions = pd.DataFrame({'prediction':preds_test, 'actual':y_test}, index = y_test.index) \n",
    "\n",
    "predictions.loc[('A111H',),:].plot(title = 'Predicted vs Actual values for the University Hospital Crosshouse in 2022');\n"
   ]
  },
  {
   "cell_type": "markdown",
   "metadata": {},
   "source": [
    "The train and test RMSE are pretty similar which suggests that there is no too strong overfitting going on. But the R squared is still pretty low and the RMSE quite high. Let's try with a different kernel."
   ]
  },
  {
   "cell_type": "code",
   "execution_count": 73,
   "metadata": {},
   "outputs": [
    {
     "name": "stdout",
     "output_type": "stream",
     "text": [
      "    nlag  dummified      RMSE        R2\n",
      "21    11      False  3.703798 -0.126411\n",
      "23    12      False  3.703879 -0.126460\n",
      "19    10      False  3.703897 -0.126471\n",
      "17     9      False  3.704108 -0.126600\n",
      "15     8      False  3.704377 -0.126763\n",
      "20    11       True  3.704389 -0.126770\n",
      "22    12       True  3.704532 -0.126857\n",
      "16     9       True  3.704550 -0.126868\n",
      "18    10       True  3.704607 -0.126903\n",
      "14     8       True  3.705472 -0.127429\n",
      "13     7      False  3.705507 -0.127450\n",
      "12     7       True  3.706464 -0.128033\n",
      "11     6      False  3.706718 -0.128188\n",
      "10     6       True  3.707795 -0.128843\n",
      "9      5      False  3.708309 -0.129157\n",
      "7      4      False  3.709488 -0.129874\n",
      "8      5       True  3.709515 -0.129891\n",
      "5      3      False  3.710589 -0.130545\n",
      "6      4       True  3.710714 -0.130621\n",
      "4      3       True  3.712036 -0.131428\n",
      "3      2      False  3.712390 -0.131643\n",
      "1      1      False  3.713596 -0.132378\n",
      "2      2       True  3.713968 -0.132605\n",
      "0      1       True  3.715294 -0.133414\n"
     ]
    },
    {
     "data": {
      "image/png": "[encoded data removed]",
      "text/plain": [
       "<Figure size 432x288 with 1 Axes>"
      ]
     },
     "metadata": {
      "needs_background": "light"
     },
     "output_type": "display_data"
    }
   ],
   "source": [
    "poss_dumm_vals = [True, False]\n",
    "lags = []\n",
    "dumm = []\n",
    "RMSEs = []\n",
    "r2s = []\n",
    "for i in range(1,13):\n",
    "    for j in poss_dumm_vals:\n",
    "        y_test, y_train, X_test, X_train, Model, preds_train, preds_test, r2_train, r2_test, RMSE_train, RMSE_test = cancellation_predictor_SVR(lag_data, '%PlannedCapacity', i, j, kernel = 'rbf')\n",
    "        lags.append(i)\n",
    "        dumm.append(j)\n",
    "        RMSEs.append(RMSE_test)\n",
    "        r2s.append(r2_test)\n",
    "        \n",
    "models = pd.DataFrame(data = {'nlag':lags, 'dummified': dumm, 'RMSE': RMSEs, 'R2': r2s}).sort_values(by = 'RMSE')\n",
    "print(models)\n",
    "models.plot(x = 'RMSE', y = 'R2', kind = 'scatter');"
   ]
  },
  {
   "cell_type": "markdown",
   "metadata": {},
   "source": [
    "This does not improve the model we got from the linear SVR. Trying the polynomial kernel also brought no improvement. One option for further model improvement would be to perform a grid search. This, however, would become very computationally expensive.\n",
    "\n",
    "We saw in our earlier analysis, that there are actually very big differences between hospitals. One option would therefore be to find the optimal parameters for each hospital, and then fit the best models for each. Doing this across all hospitals would be very computationally expensive (I tried), but we can see if this would improve results by manually selecting a couple of hospitals to try it out on:"
   ]
  },
  {
   "cell_type": "markdown",
   "metadata": {},
   "source": [
    "This clearly didn't work very well. Let's try for another hospital:"
   ]
  },
  {
   "cell_type": "code",
   "execution_count": 74,
   "metadata": {},
   "outputs": [
    {
     "name": "stdout",
     "output_type": "stream",
     "text": [
      "    nlag  dummified      RMSE        R2\n",
      "17     9      False  0.529210  0.085900\n",
      "2      2       True  0.705031 -0.622387\n",
      "18    10       True  0.719557 -0.689928\n",
      "4      3       True  0.721582 -0.699452\n",
      "19    10      False  0.726988 -0.725014\n",
      "0      1       True  0.727187 -0.725958\n",
      "16     9       True  0.733865 -0.757800\n",
      "8      5       True  0.735523 -0.765754\n",
      "9      5      False  0.749148 -0.831776\n",
      "6      4       True  0.750875 -0.840233\n",
      "20    11       True  0.758318 -0.876899\n",
      "5      3      False  0.759160 -0.881068\n",
      "10     6       True  0.807616 -1.128862\n",
      "14     8       True  0.815561 -1.170952\n",
      "12     7       True  0.834146 -1.271023\n",
      "15     8      False  0.844482 -1.327654\n",
      "1      1      False  0.921146 -1.769458\n",
      "23    12      False  0.935885 -1.858792\n",
      "22    12       True  0.944101 -1.909209\n",
      "3      2      False  0.952718 -1.962552\n",
      "7      4      False  1.023589 -2.419709\n",
      "21    11      False  1.051253 -2.607049\n",
      "13     7      False  1.112224 -3.037586\n",
      "11     6      False  1.159239 -3.386149\n"
     ]
    },
    {
     "data": {
      "image/png": "[encoded data removed]",
      "text/plain": [
       "<Figure size 432x288 with 1 Axes>"
      ]
     },
     "metadata": {
      "needs_background": "light"
     },
     "output_type": "display_data"
    }
   ],
   "source": [
    "#Let's try this with H202H as we already know we have complete data for this one:\n",
    "\n",
    "mod_data = lag_data[lag_data['Hospital'] == 'Z102H']\n",
    "        \n",
    "poss_dumm_vals = [True, False]\n",
    "lags = []\n",
    "dumm = []\n",
    "RMSEs = []\n",
    "r2s = []\n",
    "for i in range(1,13):\n",
    "    for j in poss_dumm_vals:\n",
    "        y_test, y_train, X_test, X_train, Model, preds_train, preds_test, r2_train, r2_test, RMSE_train, RMSE_test = cancellation_predictor_SVR(mod_data, '%PlannedCapacity', i, j, kernel = 'linear')\n",
    "        lags.append(i)\n",
    "        dumm.append(j)\n",
    "        RMSEs.append(RMSE_test)\n",
    "        r2s.append(r2_test)\n",
    "        \n",
    "models = pd.DataFrame(data = {'nlag':lags, 'dummified': dumm, 'RMSE': RMSEs, 'R2': r2s}).sort_values(by = 'RMSE')\n",
    "print(models)\n",
    "models.plot(x = 'RMSE', y = 'R2', kind = 'scatter');"
   ]
  },
  {
   "cell_type": "markdown",
   "metadata": {},
   "source": [
    "This looks a lot better in terms of RMSE, but still nowhere near where it could be called a good model. Mostly, the models appear to be underfitting. This is not very surprising given the little data we have available. More computationally expensive methods could be used, but the most improvement could probably be achieved by obtaining more data  on factors such as staffing levels, budget, etc."
   ]
  },
  {
   "cell_type": "code",
   "execution_count": null,
   "metadata": {},
   "outputs": [],
   "source": []
  }
 ],
 "metadata": {
  "kernelspec": {
   "display_name": "Python 3",
   "language": "python",
   "name": "python3"
  },
  "language_info": {
   "codemirror_mode": {
    "name": "ipython",
    "version": 3
   },
   "file_extension": ".py",
   "mimetype": "text/x-python",
   "name": "python",
   "nbconvert_exporter": "python",
   "pygments_lexer": "ipython3",
   "version": "3.8.3"
  }
 },
 "nbformat": 4,
 "nbformat_minor": 4
}
